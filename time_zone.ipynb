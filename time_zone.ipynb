{
 "cells": [
  {
   "cell_type": "markdown",
   "metadata": {},
   "source": [
    "# Time Zone\n",
    "## Bot to tell <span style=\"color:red\">Current Time</span> for a given <span style=\"color:red\">Location</span>. ## "
   ]
  },
  {
   "cell_type": "code",
   "execution_count": 1,
   "metadata": {
    "collapsed": true
   },
   "outputs": [],
   "source": [
    "import pickle\n",
    "from geopy import geocoders\n",
    "from datetime import datetime\n",
    "from itertools import groupby\n",
    "from ipywidgets import widgets  \n",
    "from pycorenlp import StanfordCoreNLP"
   ]
  },
  {
   "cell_type": "code",
   "execution_count": 2,
   "metadata": {
    "collapsed": true
   },
   "outputs": [],
   "source": [
    "# config\n",
    "# get your Google Maps API Key from google consol\n",
    "api_key = \"<GOOGLE_API_KEY>\" \n",
    "geo = geocoders.GoogleV3(api_key=api_key['google'])\n",
    "\n",
    "# Stanford CoreNLP server url\n",
    "URL = 'http://localhost:9000/'\n",
    "nlp = StanfordCoreNLP(URL)"
   ]
  },
  {
   "cell_type": "code",
   "execution_count": 3,
   "metadata": {
    "collapsed": true
   },
   "outputs": [],
   "source": [
    "test_text = \"\"\"\n",
    "what is the time now?\n",
    "what is the time in tokyo?\n",
    "what is the time in rio de janeiro?\n",
    "what is the time in Chennai, Tamil Nadu?\n",
    "\"\"\".strip().split('\\n')"
   ]
  },
  {
   "cell_type": "markdown",
   "metadata": {},
   "source": [
    " "
   ]
  },
  {
   "cell_type": "markdown",
   "metadata": {},
   "source": [
    "### Tag Location Entity in the Sentence\n",
    "- Stanford CoreNLP server will process the text and return POS tagged tuples"
   ]
  },
  {
   "cell_type": "code",
   "execution_count": 4,
   "metadata": {
    "collapsed": true
   },
   "outputs": [],
   "source": [
    "# true case & ner\n",
    "def named_entity_tagging(sent):\n",
    "    properties = { 'annotators': 'tokenize,ssplit,pos,lemma,truecase,ner',\n",
    "                   'outputFormat': 'json'}\n",
    "    \n",
    "    response_ner = nlp.annotate(sent.title(), properties=properties)\n",
    "    \n",
    "    return [(dic.get('truecaseText'), dic.get('ner')) for dic in response_ner['sentences'][0]['tokens']]"
   ]
  },
  {
   "cell_type": "code",
   "execution_count": 5,
   "metadata": {},
   "outputs": [
    {
     "data": {
      "text/plain": [
       "[('Time', 'O'),\n",
       " ('now', 'DATE'),\n",
       " ('in', 'O'),\n",
       " ('Rio', 'LOCATION'),\n",
       " ('de', 'LOCATION'),\n",
       " ('Jenirio', 'LOCATION')]"
      ]
     },
     "execution_count": 5,
     "metadata": {},
     "output_type": "execute_result"
    }
   ],
   "source": [
    "named_entity_tagging(\"time now in rio de jenirio\")"
   ]
  },
  {
   "cell_type": "markdown",
   "metadata": {},
   "source": [
    " "
   ]
  },
  {
   "cell_type": "markdown",
   "metadata": {},
   "source": [
    "### Extract Location Entity \n",
    "- Extract only the location entity\n",
    "- If the location entity is made up of multiple words then chunk the entity"
   ]
  },
  {
   "cell_type": "code",
   "execution_count": 6,
   "metadata": {
    "collapsed": true
   },
   "outputs": [],
   "source": [
    "def extract_location(sent, entity_label='LOCATION', default='Chennai'):\n",
    "    named_entity_lst = named_entity_tagging(sent)\n",
    "    entity_lst = list()\n",
    "    for tag, grp in groupby(named_entity_lst, lambda entity:entity[1]):\n",
    "        if tag == entity_label:\n",
    "            entity_lst.append(\" \".join(entity for entity,_ in grp))\n",
    "    if not entity_lst:\n",
    "        entity_lst.append(default)\n",
    "    return entity_lst"
   ]
  },
  {
   "cell_type": "code",
   "execution_count": 7,
   "metadata": {},
   "outputs": [
    {
     "data": {
      "text/plain": [
       "['Rio de Jenirio']"
      ]
     },
     "execution_count": 7,
     "metadata": {},
     "output_type": "execute_result"
    }
   ],
   "source": [
    "extract_location(\"time now in rio de jenirio\")"
   ]
  },
  {
   "cell_type": "markdown",
   "metadata": {},
   "source": [
    " "
   ]
  },
  {
   "cell_type": "markdown",
   "metadata": {},
   "source": [
    "### Fine Timezone Corresponding to the Location\n",
    "- Get the geocode for the location from Google Geocoding API\n",
    "- With Geocode find timezone with Google Timezone API"
   ]
  },
  {
   "cell_type": "code",
   "execution_count": 8,
   "metadata": {
    "collapsed": true
   },
   "outputs": [],
   "source": [
    "def location_timezone(locations):\n",
    "    tz = list()\n",
    "    for location in locations:\n",
    "        timezone = geo.timezone(geo.geocode(location).point)\n",
    "        tz.append(timezone)\n",
    "    if len(set(tz)) == 1:\n",
    "        return tz[0]\n",
    "    else:\n",
    "        return zip(locations, tz)        "
   ]
  },
  {
   "cell_type": "code",
   "execution_count": 11,
   "metadata": {},
   "outputs": [
    {
     "data": {
      "text/plain": [
       "<DstTzInfo 'America/Sao_Paulo' LMT-1 day, 20:54:00 STD>"
      ]
     },
     "execution_count": 11,
     "metadata": {},
     "output_type": "execute_result"
    }
   ],
   "source": [
    "location_timezone(['Rio de Jenirio'])"
   ]
  },
  {
   "cell_type": "markdown",
   "metadata": {},
   "source": [
    " "
   ]
  },
  {
   "cell_type": "code",
   "execution_count": 12,
   "metadata": {
    "collapsed": true
   },
   "outputs": [],
   "source": [
    "def bot(sent):\n",
    "    location = extract_location(sent)\n",
    "    tz_info = location_timezone(location)\n",
    "    return datetime.now(tz_info).strftime('%a, %d %b %Y %I:%M:%S %p %Z')"
   ]
  },
  {
   "cell_type": "code",
   "execution_count": 13,
   "metadata": {},
   "outputs": [
    {
     "data": {
      "text/plain": [
       "'Sat, 22 Jul 2017 08:55:18 AM BRT'"
      ]
     },
     "execution_count": 13,
     "metadata": {},
     "output_type": "execute_result"
    }
   ],
   "source": [
    "bot(\"time now in rio de jenirio\")"
   ]
  },
  {
   "cell_type": "markdown",
   "metadata": {},
   "source": [
    " "
   ]
  },
  {
   "cell_type": "code",
   "execution_count": null,
   "metadata": {
    "collapsed": true
   },
   "outputs": [],
   "source": [
    "text = widgets.Text()\n",
    "display(text)\n",
    "\n",
    "def submit(data):\n",
    "    print(\"{}\\n{}\".format(data.value, bot(data.value)))\n",
    "    \n",
    "text.on_submit(submit)"
   ]
  },
  {
   "cell_type": "markdown",
   "metadata": {},
   "source": [
    " "
   ]
  },
  {
   "cell_type": "markdown",
   "metadata": {},
   "source": [
    " "
   ]
  },
  {
   "cell_type": "markdown",
   "metadata": {},
   "source": [
    " "
   ]
  },
  {
   "cell_type": "markdown",
   "metadata": {},
   "source": [
    " "
   ]
  },
  {
   "cell_type": "markdown",
   "metadata": {},
   "source": [
    " "
   ]
  }
 ],
 "metadata": {
  "kernelspec": {
   "display_name": "Python [default]",
   "language": "python",
   "name": "python3"
  },
  "language_info": {
   "codemirror_mode": {
    "name": "ipython",
    "version": 3
   },
   "file_extension": ".py",
   "mimetype": "text/x-python",
   "name": "python",
   "nbconvert_exporter": "python",
   "pygments_lexer": "ipython3",
   "version": "3.5.3"
  }
 },
 "nbformat": 4,
 "nbformat_minor": 2
}
