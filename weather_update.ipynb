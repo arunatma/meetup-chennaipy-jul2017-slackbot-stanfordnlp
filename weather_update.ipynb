{
 "cells": [
  {
   "cell_type": "markdown",
   "metadata": {},
   "source": [
    "## Lets Get Weather Forecast"
   ]
  },
  {
   "cell_type": "code",
   "execution_count": 1,
   "metadata": {
    "collapsed": true
   },
   "outputs": [],
   "source": [
    "import pickle\n",
    "from geopy import geocoders\n",
    "from datetime import datetime\n",
    "from darksky import forecast\n",
    "\n",
    "# get your Google Maps API Key from google consol\n",
    "GOOGLE_API_KEY = \"<GOOGLE_API_KEY>\"\n",
    "# get your Dark Sky API to fetch weather update\n",
    "DARK_SKY_API_KEY = \"<DARK_SKY_API_KEY>\"\n",
    "\n",
    "geo = geocoders.GoogleV3(api_key=GOOGLE_API_KEY)"
   ]
  },
  {
   "cell_type": "markdown",
   "metadata": {},
   "source": [
    "  "
   ]
  },
  {
   "cell_type": "markdown",
   "metadata": {},
   "source": [
    "### Get Geocode for the Location \n",
    "- Get Geocodes for the given locations"
   ]
  },
  {
   "cell_type": "code",
   "execution_count": 2,
   "metadata": {},
   "outputs": [
    {
     "data": {
      "text/plain": [
       "Location(Chennai, Tamil Nadu, India, (13.0826802, 80.2707184, 0.0))"
      ]
     },
     "execution_count": 2,
     "metadata": {},
     "output_type": "execute_result"
    }
   ],
   "source": [
    "location = geo.geocode('Chennai')\n",
    "location"
   ]
  },
  {
   "cell_type": "markdown",
   "metadata": {},
   "source": [
    " "
   ]
  },
  {
   "cell_type": "markdown",
   "metadata": {},
   "source": [
    "### Fetch Weather Forcast for the Location from Dark Sky API"
   ]
  },
  {
   "cell_type": "code",
   "execution_count": 3,
   "metadata": {
    "collapsed": true
   },
   "outputs": [],
   "source": [
    "data = forecast(DARK_SKY_API_KEY, location.latitude, location.longitude, units='si')"
   ]
  },
  {
   "cell_type": "markdown",
   "metadata": {},
   "source": [
    " "
   ]
  },
  {
   "cell_type": "code",
   "execution_count": 4,
   "metadata": {},
   "outputs": [
    {
     "data": {
      "text/plain": [
       "30.38"
      ]
     },
     "execution_count": 4,
     "metadata": {},
     "output_type": "execute_result"
    }
   ],
   "source": [
    "data.currently.temperature"
   ]
  },
  {
   "cell_type": "markdown",
   "metadata": {},
   "source": [
    " "
   ]
  },
  {
   "cell_type": "code",
   "execution_count": 5,
   "metadata": {},
   "outputs": [
    {
     "data": {
      "text/plain": [
       "'Light rain today through Friday, with temperatures rising to 35°C on Tuesday.'"
      ]
     },
     "execution_count": 5,
     "metadata": {},
     "output_type": "execute_result"
    }
   ],
   "source": [
    "data.daily.summary"
   ]
  },
  {
   "cell_type": "markdown",
   "metadata": {},
   "source": [
    " "
   ]
  },
  {
   "cell_type": "code",
   "execution_count": 6,
   "metadata": {},
   "outputs": [
    {
     "name": "stdout",
     "output_type": "stream",
     "text": [
      "Light rain today through Friday, with temperatures rising to 35°C on Tuesday.\n",
      "---\n",
      "Sat: Light rain in the afternoon. Temp range: 27.51 - 34.08\n",
      "Sun: Light rain overnight. Temp range: 27.58 - 34.6\n",
      "Mon: Overcast throughout the day. Temp range: 26.53 - 34.42\n",
      "Tue: Overcast throughout the day. Temp range: 27.02 - 34.64\n",
      "Wed: Light rain in the afternoon and overnight. Temp range: 26.57 - 34.23\n",
      "Thu: Light rain in the afternoon. Temp range: 26.01 - 34.27\n",
      "Fri: Light rain in the afternoon. Temp range: 26.22 - 34.08\n",
      "Sat: Overcast throughout the day. Temp range: 26.56 - 34.17\n"
     ]
    }
   ],
   "source": [
    "from datetime import date, timedelta\n",
    "weekday = date.today()\n",
    "with forecast(DARK_SKY_API_KEY, location.latitude, location.longitude, units='si') as boston:\n",
    "    print(boston.daily.summary, end='\\n---\\n')\n",
    "    for day in boston.daily:\n",
    "        day = dict(day = date.strftime(weekday, '%a'),\n",
    "                   sum = day.summary,\n",
    "                   tempMin = day.temperatureMin,\n",
    "                   tempMax = day.temperatureMax\n",
    "                   )\n",
    "        print('{day}: {sum} Temp range: {tempMin} - {tempMax}'.format(**day))\n",
    "        weekday += timedelta(days=1)"
   ]
  },
  {
   "cell_type": "markdown",
   "metadata": {},
   "source": [
    " "
   ]
  },
  {
   "cell_type": "markdown",
   "metadata": {},
   "source": [
    " "
   ]
  }
 ],
 "metadata": {
  "kernelspec": {
   "display_name": "Python [conda env:bots]",
   "language": "python",
   "name": "conda-env-bots-py"
  },
  "language_info": {
   "codemirror_mode": {
    "name": "ipython",
    "version": 3
   },
   "file_extension": ".py",
   "mimetype": "text/x-python",
   "name": "python",
   "nbconvert_exporter": "python",
   "pygments_lexer": "ipython3",
   "version": "3.5.3"
  }
 },
 "nbformat": 4,
 "nbformat_minor": 2
}
