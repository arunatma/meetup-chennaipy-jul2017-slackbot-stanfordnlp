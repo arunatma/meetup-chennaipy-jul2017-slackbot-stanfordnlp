{
 "cells": [
  {
   "cell_type": "markdown",
   "metadata": {
    "slideshow": {
     "slide_type": "slide"
    }
   },
   "source": [
    "<center>\n",
    "<h1>Prabakaran Kumaresshan</h1>\n",
    "<h3 style=\"font-weight:normal;\">machine learning engineer</h3>\n",
    "<h4 style=\"font-weight:normal;\">@iPrabakaran</h4>\n",
    "<h3 style=\"color: #0480B6;\">Tata Consultancy Services</h3>\n",
    "</center>"
   ]
  },
  {
   "cell_type": "markdown",
   "metadata": {
    "slideshow": {
     "slide_type": "slide"
    }
   },
   "source": [
    "<h1 style=\"text-align: center;\">Building a Chatbot for Slack using Stanford NLP </h1>\n",
    "\n",
    "## Agenda\n",
    " - Why Chatbots?\n",
    " - General Architecture for Chatbots\n",
    " - Slack Integration Setup\n",
    " - Stanford NLP\n",
    " - Time Zone Bot\n",
    " - Weather Update Bot"
   ]
  },
  {
   "cell_type": "markdown",
   "metadata": {
    "slideshow": {
     "slide_type": "slide"
    }
   },
   "source": [
    "# Why Chatbots?\n",
    "\n",
    "- People spend more time on Instant Messaging platform\n",
    "     "
   ]
  },
  {
   "cell_type": "markdown",
   "metadata": {
    "slideshow": {
     "slide_type": "fragment"
    }
   },
   "source": [
    "<img src=\"img/bi_stat.png\">"
   ]
  },
  {
   "cell_type": "markdown",
   "metadata": {
    "slideshow": {
     "slide_type": "subslide"
    }
   },
   "source": [
    "# Why Chatbots?\n",
    "\n",
    "- People spend more time on Instant Messaging platform\n",
    "     \n",
    "- Gives a personal touch, humans are more inclined to conversations than clicks"
   ]
  },
  {
   "cell_type": "markdown",
   "metadata": {
    "slideshow": {
     "slide_type": "fragment"
    }
   },
   "source": [
    "- No need to build and maintain your app"
   ]
  },
  {
   "cell_type": "markdown",
   "metadata": {
    "slideshow": {
     "slide_type": "fragment"
    }
   },
   "source": [
    "- Build once, make it available on any platform"
   ]
  },
  {
   "cell_type": "markdown",
   "metadata": {
    "slideshow": {
     "slide_type": "slide"
    }
   },
   "source": [
    " # General Architecture for Chatbots\n",
    " <img src=\"img/channels.png\" height=\"600\" width=\"600\" align=\"middle\"/>\n",
    " "
   ]
  },
  {
   "cell_type": "markdown",
   "metadata": {
    "collapsed": true,
    "slideshow": {
     "slide_type": "slide"
    }
   },
   "source": [
    "# <img src=\"img/slack_logo.png\" height=\"90\" width=\"200\" align=\"middle\"/> Bot Integration\n",
    "\n",
    " - Create a Slack App\n",
    " - Create a Bot User\n",
    " - Enable Slack Event API\n",
    " - Create a Back End \n",
    " - Create an End Point"
   ]
  },
  {
   "cell_type": "markdown",
   "metadata": {
    "slideshow": {
     "slide_type": "fragment"
    }
   },
   "source": [
    "Creating a Python based Bot will be covered in [Medium](https://medium.com/freehunch) post \n",
    "## medium.com/freehunch\n"
   ]
  },
  {
   "cell_type": "markdown",
   "metadata": {
    "slideshow": {
     "slide_type": "subslide"
    }
   },
   "source": [
    "## Slack Events API\n",
    "\n",
    " - Slack sends a **POST** request \n",
    " - Events are **sent as** and **when** they occur\n",
    " - Subscribe to **only** those Events you wish to be notified\n",
    "   - Some of the Events are - ***message, new user, created group, archived channel***   \n",
    " - **Acknowledge** POST with in 3 sec\n",
    " - Emit response if required"
   ]
  },
  {
   "cell_type": "markdown",
   "metadata": {
    "slideshow": {
     "slide_type": "slide"
    }
   },
   "source": [
    "# Stanford Core NLP :  Named Entity Recognition\n",
    "\n",
    "- Identify named entities like **Person, Location, Organisation, Temporal Reference**\n"
   ]
  },
  {
   "cell_type": "markdown",
   "metadata": {
    "slideshow": {
     "slide_type": "subslide"
    }
   },
   "source": [
    "<img src=\"img/ner_1.png\"/>"
   ]
  },
  {
   "cell_type": "markdown",
   "metadata": {
    "slideshow": {
     "slide_type": "subslide"
    }
   },
   "source": [
    "<img src=\"img/ner_2.png\"/>"
   ]
  },
  {
   "cell_type": "markdown",
   "metadata": {
    "slideshow": {
     "slide_type": "subslide"
    }
   },
   "source": [
    "<img src=\"img/ner_3.png\" height=\"500\" width=\"1200\"/>"
   ]
  },
  {
   "cell_type": "markdown",
   "metadata": {
    "slideshow": {
     "slide_type": "slide"
    }
   },
   "source": [
    "# Time Zone "
   ]
  },
  {
   "cell_type": "markdown",
   "metadata": {
    "slideshow": {
     "slide_type": "fragment"
    }
   },
   "source": [
    " - Bot should tell current time of a given location\n"
   ]
  },
  {
   "cell_type": "markdown",
   "metadata": {
    "slideshow": {
     "slide_type": "fragment"
    }
   },
   "source": [
    " - If no location is given assume Chennai\n"
   ]
  },
  {
   "cell_type": "markdown",
   "metadata": {
    "slideshow": {
     "slide_type": "fragment"
    }
   },
   "source": [
    " - Questions\n",
    "   - What is the time now in Dallas?\n",
    "   - What is the time in Rio de Jenirio?\n",
    "   - What is the time?"
   ]
  },
  {
   "cell_type": "markdown",
   "metadata": {
    "slideshow": {
     "slide_type": "subslide"
    }
   },
   "source": [
    "[Jupyter Notebook](http://localhost:8888/notebooks/time_zone.ipynb)"
   ]
  },
  {
   "cell_type": "markdown",
   "metadata": {
    "slideshow": {
     "slide_type": "slide"
    }
   },
   "source": [
    "# Weather Update "
   ]
  },
  {
   "cell_type": "markdown",
   "metadata": {
    "slideshow": {
     "slide_type": "fragment"
    }
   },
   "source": [
    "- Give weather update for a given location\n",
    "- If no location is given assume Chennai\n"
   ]
  },
  {
   "cell_type": "markdown",
   "metadata": {
    "slideshow": {
     "slide_type": "fragment"
    }
   },
   "source": [
    "- Questions\n",
    "  - how is the weather in Iceland?\n",
    "  - weather update for Sydney"
   ]
  },
  {
   "cell_type": "markdown",
   "metadata": {
    "slideshow": {
     "slide_type": "subslide"
    }
   },
   "source": [
    "[Jupyter Notebook](http://localhost:8888/notebooks/weather_update.ipynb)"
   ]
  },
  {
   "cell_type": "markdown",
   "metadata": {
    "collapsed": true,
    "slideshow": {
     "slide_type": "slide"
    }
   },
   "source": [
    "<center>\n",
    "<h1>Prabakaran Kumaresshan</h1>\n",
    "<h4 style=\"font-weight:normal;\">Twitter: <a href=\"https://twitter.com/iPrabakaran\">@iPrabakaran</a></h4>\n",
    "<h4 style=\"font-weight:normal;\">Github: <a href=\"https://github.com/nixphix\">@nixphix</a></h4>\n",
    "<h4 style=\"font-weight:normal;\">LinkedIn: <a href=\"https://www.linkedin.com/in/nixphix/\">nixphix</a></h4>\n",
    "<h4 style=\"font-weight:normal;\">Medium: <a href=\"https://medium.com/@nixphix\">@nixphix</a></h4>\n",
    "<h4 style=\"font-weight:normal;\">Kaggle: <a href=\"https://www.kaggle.com/pbkaran\">pbkaran</a></h4>\n",
    "</center>"
   ]
  }
 ],
 "metadata": {
  "celltoolbar": "Slideshow",
  "kernelspec": {
   "display_name": "Python [default]",
   "language": "python",
   "name": "python3"
  },
  "language_info": {
   "codemirror_mode": {
    "name": "ipython",
    "version": 3
   },
   "file_extension": ".py",
   "mimetype": "text/x-python",
   "name": "python",
   "nbconvert_exporter": "python",
   "pygments_lexer": "ipython3",
   "version": "3.5.3"
  }
 },
 "nbformat": 4,
 "nbformat_minor": 2
}
